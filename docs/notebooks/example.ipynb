{
 "cells": [
  {
   "cell_type": "markdown",
   "id": "0",
   "metadata": {},
   "source": [
    "# Example data processing\n",
    "\n",
    "This notebook contains example data processing using the output of the [`muse1_default`] example\n",
    "model.\n",
    "\n",
    "Output files are mostly in CSV format. The format of output files is documented [here][output-format].\n",
    "\n",
    "We begin by loading the `model.toml` input file to get the list of milestone years.\n",
    "\n",
    "[`muse1_default`]: ../../examples/muse1_default/\n",
    "[output-format]: https://energysystemsmodellinglab.github.io/MUSE_2.0/file_formats/output_files.html"
   ]
  },
  {
   "cell_type": "code",
   "execution_count": null,
   "id": "1",
   "metadata": {},
   "outputs": [],
   "source": [
    "from pathlib import Path\n",
    "import pandas as pd\n",
    "import tomllib\n",
    "\n",
    "ROOT_DIR = Path(\"../..\")\n",
    "INPUT_DIR = ROOT_DIR / \"examples\" / \"muse1_default\"\n",
    "OUTPUT_DIR = ROOT_DIR / \"tests\" / \"data\" / \"muse1_default\"\n",
    "\n",
    "with (INPUT_DIR / \"model.toml\").open(\"rb\") as f:\n",
    "    model = tomllib.load(f)\n",
    "\n",
    "# We need to know the milestone years for processing the assets file\n",
    "years = model[\"milestone_years\"]"
   ]
  },
  {
   "cell_type": "markdown",
   "id": "2",
   "metadata": {},
   "source": [
    "## Load and process output data\n",
    "\n",
    "We next load the output data. In this case, we want to calculate how much capacity was invested in\n",
    "different processes for different agents. This information can be found in the `assets.csv` output\n",
    "file.\n",
    "\n",
    "The `assets.csv` file contains information about different assets, including when they were\n",
    "commissioned and decommissioned as well as their capacity. To calculate the overall capacity for a\n",
    "given agent and process type, we have to process this data. Note that different assets owned by the\n",
    "same agent may have the same process ID if the agent has reinvested in the same process type in a\n",
    "different year."
   ]
  },
  {
   "cell_type": "code",
   "execution_count": null,
   "id": "3",
   "metadata": {},
   "outputs": [
    {
     "data": {
      "application/vnd.microsoft.datawrangler.viewer.v0+json": {
       "columns": [
        {
         "name": "index",
         "rawType": "int64",
         "type": "integer"
        },
        {
         "name": "agent_id",
         "rawType": "object",
         "type": "string"
        },
        {
         "name": "process_id",
         "rawType": "object",
         "type": "string"
        },
        {
         "name": "capacity",
         "rawType": "float64",
         "type": "float"
        },
        {
         "name": "year",
         "rawType": "int64",
         "type": "integer"
        }
       ],
       "ref": "58096e71-1b2b-44a1-8729-5d317ad67ccc",
       "rows": [
        [
         "0",
         "A1_GAS",
         "gassupply1",
         "24.0",
         "2020"
        ],
        [
         "1",
         "A1_RES",
         "gasboiler",
         "19.0",
         "2020"
        ],
        [
         "0",
         "A1_GAS",
         "gassupply1",
         "33.25678148643703",
         "2025"
        ],
        [
         "1",
         "A1_RES",
         "gasboiler",
         "23.93995212009576",
         "2025"
        ],
        [
         "0",
         "A1_GAS",
         "gassupply1",
         "40.95916608166784",
         "2030"
        ],
        [
         "1",
         "A1_RES",
         "gasboiler",
         "29.87994024011952",
         "2030"
        ],
        [
         "0",
         "A1_GAS",
         "gassupply1",
         "50.23914752170496",
         "2035"
        ],
        [
         "1",
         "A1_RES",
         "gasboiler",
         "35.999928000143996",
         "2035"
        ],
        [
         "0",
         "A1_GAS",
         "gassupply1",
         "55.64473671052658",
         "2040"
        ],
        [
         "1",
         "A1_RES",
         "gasboiler",
         "41.93991612016776",
         "2040"
        ],
        [
         "0",
         "A1_GAS",
         "gassupply1",
         "61.815924368151265",
         "2045"
        ],
        [
         "1",
         "A1_RES",
         "gasboiler",
         "47.87990424019152",
         "2045"
        ],
        [
         "0",
         "A1_GAS",
         "gassupply1",
         "75.73589652820695",
         "2050"
        ],
        [
         "1",
         "A1_RES",
         "gasboiler",
         "53.99989200021599",
         "2050"
        ]
       ],
       "shape": {
        "columns": 4,
        "rows": 14
       }
      },
      "text/html": [
       "<div>\n",
       "<style scoped>\n",
       "    .dataframe tbody tr th:only-of-type {\n",
       "        vertical-align: middle;\n",
       "    }\n",
       "\n",
       "    .dataframe tbody tr th {\n",
       "        vertical-align: top;\n",
       "    }\n",
       "\n",
       "    .dataframe thead th {\n",
       "        text-align: right;\n",
       "    }\n",
       "</style>\n",
       "<table border=\"1\" class=\"dataframe\">\n",
       "  <thead>\n",
       "    <tr style=\"text-align: right;\">\n",
       "      <th></th>\n",
       "      <th>agent_id</th>\n",
       "      <th>process_id</th>\n",
       "      <th>capacity</th>\n",
       "      <th>year</th>\n",
       "    </tr>\n",
       "  </thead>\n",
       "  <tbody>\n",
       "    <tr>\n",
       "      <th>0</th>\n",
       "      <td>A1_GAS</td>\n",
       "      <td>gassupply1</td>\n",
       "      <td>24.000000</td>\n",
       "      <td>2020</td>\n",
       "    </tr>\n",
       "    <tr>\n",
       "      <th>1</th>\n",
       "      <td>A1_RES</td>\n",
       "      <td>gasboiler</td>\n",
       "      <td>19.000000</td>\n",
       "      <td>2020</td>\n",
       "    </tr>\n",
       "    <tr>\n",
       "      <th>0</th>\n",
       "      <td>A1_GAS</td>\n",
       "      <td>gassupply1</td>\n",
       "      <td>33.256781</td>\n",
       "      <td>2025</td>\n",
       "    </tr>\n",
       "    <tr>\n",
       "      <th>1</th>\n",
       "      <td>A1_RES</td>\n",
       "      <td>gasboiler</td>\n",
       "      <td>23.939952</td>\n",
       "      <td>2025</td>\n",
       "    </tr>\n",
       "    <tr>\n",
       "      <th>0</th>\n",
       "      <td>A1_GAS</td>\n",
       "      <td>gassupply1</td>\n",
       "      <td>40.959166</td>\n",
       "      <td>2030</td>\n",
       "    </tr>\n",
       "    <tr>\n",
       "      <th>1</th>\n",
       "      <td>A1_RES</td>\n",
       "      <td>gasboiler</td>\n",
       "      <td>29.879940</td>\n",
       "      <td>2030</td>\n",
       "    </tr>\n",
       "    <tr>\n",
       "      <th>0</th>\n",
       "      <td>A1_GAS</td>\n",
       "      <td>gassupply1</td>\n",
       "      <td>50.239148</td>\n",
       "      <td>2035</td>\n",
       "    </tr>\n",
       "    <tr>\n",
       "      <th>1</th>\n",
       "      <td>A1_RES</td>\n",
       "      <td>gasboiler</td>\n",
       "      <td>35.999928</td>\n",
       "      <td>2035</td>\n",
       "    </tr>\n",
       "    <tr>\n",
       "      <th>0</th>\n",
       "      <td>A1_GAS</td>\n",
       "      <td>gassupply1</td>\n",
       "      <td>55.644737</td>\n",
       "      <td>2040</td>\n",
       "    </tr>\n",
       "    <tr>\n",
       "      <th>1</th>\n",
       "      <td>A1_RES</td>\n",
       "      <td>gasboiler</td>\n",
       "      <td>41.939916</td>\n",
       "      <td>2040</td>\n",
       "    </tr>\n",
       "    <tr>\n",
       "      <th>0</th>\n",
       "      <td>A1_GAS</td>\n",
       "      <td>gassupply1</td>\n",
       "      <td>61.815924</td>\n",
       "      <td>2045</td>\n",
       "    </tr>\n",
       "    <tr>\n",
       "      <th>1</th>\n",
       "      <td>A1_RES</td>\n",
       "      <td>gasboiler</td>\n",
       "      <td>47.879904</td>\n",
       "      <td>2045</td>\n",
       "    </tr>\n",
       "    <tr>\n",
       "      <th>0</th>\n",
       "      <td>A1_GAS</td>\n",
       "      <td>gassupply1</td>\n",
       "      <td>75.735897</td>\n",
       "      <td>2050</td>\n",
       "    </tr>\n",
       "    <tr>\n",
       "      <th>1</th>\n",
       "      <td>A1_RES</td>\n",
       "      <td>gasboiler</td>\n",
       "      <td>53.999892</td>\n",
       "      <td>2050</td>\n",
       "    </tr>\n",
       "  </tbody>\n",
       "</table>\n",
       "</div>"
      ],
      "text/plain": [
       "  agent_id  process_id   capacity  year\n",
       "0   A1_GAS  gassupply1  24.000000  2020\n",
       "1   A1_RES   gasboiler  19.000000  2020\n",
       "0   A1_GAS  gassupply1  33.256781  2025\n",
       "1   A1_RES   gasboiler  23.939952  2025\n",
       "0   A1_GAS  gassupply1  40.959166  2030\n",
       "1   A1_RES   gasboiler  29.879940  2030\n",
       "0   A1_GAS  gassupply1  50.239148  2035\n",
       "1   A1_RES   gasboiler  35.999928  2035\n",
       "0   A1_GAS  gassupply1  55.644737  2040\n",
       "1   A1_RES   gasboiler  41.939916  2040\n",
       "0   A1_GAS  gassupply1  61.815924  2045\n",
       "1   A1_RES   gasboiler  47.879904  2045\n",
       "0   A1_GAS  gassupply1  75.735897  2050\n",
       "1   A1_RES   gasboiler  53.999892  2050"
      ]
     },
     "execution_count": null,
     "metadata": {},
     "output_type": "execute_result"
    }
   ],
   "source": [
    "# The assets.csv file contains info about which assets were invested in and when\n",
    "assets = pd.read_csv(OUTPUT_DIR / \"assets.csv\")\n",
    "\n",
    "# Assets with no decommission_year are effectively decommissioned after time horizon\n",
    "assets[\"decommission_year\"] = assets[\"decommission_year\"].fillna(years[-1] + 1)\n",
    "\n",
    "# Calculate capacity for each type of process for each agent\n",
    "capacity = pd.DataFrame()\n",
    "for year in years:\n",
    "    active = assets[(year >= assets[\"commission_year\"]) & (year <= assets[\"decommission_year\"])]\n",
    "\n",
    "    # This only works because each agent is responsible for one and only one commodity\n",
    "    cap_sum = active.groupby([\"agent_id\", \"process_id\"])[\"capacity\"].sum().reset_index()\n",
    "\n",
    "    df = pd.DataFrame(cap_sum)\n",
    "    df[\"year\"] = year\n",
    "\n",
    "    capacity = pd.concat([capacity, df])\n",
    "\n",
    "capacity"
   ]
  },
  {
   "cell_type": "markdown",
   "id": "4",
   "metadata": {},
   "source": [
    "## Plot results\n",
    "\n",
    "Finally, we plot the results.\n",
    "\n",
    "Note that each of the agents has invested in only one process type; otherwise there would be\n",
    "multiple bars per plot here."
   ]
  },
  {
   "cell_type": "code",
   "execution_count": null,
   "id": "5",
   "metadata": {},
   "outputs": [
    {
     "data": {
      "image/png": "[encoded data removed]",
      "text/plain": [
       "<Figure size 640x480 with 2 Axes>"
      ]
     },
     "metadata": {},
     "output_type": "display_data"
    }
   ],
   "source": [
    "import matplotlib.pyplot as plt\n",
    "\n",
    "agents = capacity[\"agent_id\"].unique()\n",
    "_, axes = plt.subplots(1, len(agents))\n",
    "for ax, agent in zip(axes, agents):\n",
    "    capacity[capacity[\"agent_id\"] == agent].pivot(index=\"year\", columns=\"process_id\", values=\"capacity\").plot(kind=\"bar\", ax=ax)\n",
    "    ax.set_title(agent)\n",
    "    ax.set_xlabel(\"Year\")\n",
    "    ax.set_ylabel(\"Capacity\")\n",
    "    ax.legend(title=\"Process\")"
   ]
  }
 ],
 "metadata": {
  "kernelspec": {
   "display_name": "MUSE_2.0",
   "language": "python",
   "name": "python3"
  },
  "language_info": {
   "codemirror_mode": {
    "name": "ipython",
    "version": 3
   },
   "file_extension": ".py",
   "mimetype": "text/x-python",
   "name": "python",
   "nbconvert_exporter": "python",
   "pygments_lexer": "ipython3",
   "version": "3.13.2"
  }
 },
 "nbformat": 4,
 "nbformat_minor": 5
}
