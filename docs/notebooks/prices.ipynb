{
 "cells": [
  {
   "cell_type": "markdown",
   "id": "0",
   "metadata": {},
   "source": [
    "# Plotting commodity prices\n",
    "\n",
    "This notebook shows how to plot commodity prices, using the [`muse1_default`] example model.\n",
    "\n",
    "We first load the prices from the `commodity_prices.csv` output file.\n",
    "\n",
    "[`muse1_default`]: ../../examples/muse1_default/"
   ]
  },
  {
   "cell_type": "code",
   "execution_count": null,
   "id": "1",
   "metadata": {},
   "outputs": [],
   "source": [
    "from pathlib import Path\n",
    "import pandas as pd\n",
    "\n",
    "ROOT_DIR = Path(\"../..\")\n",
    "OUTPUT_DIR = ROOT_DIR / \"tests\" / \"data\" / \"muse1_default\"\n",
    "\n",
    "prices = pd.read_csv(OUTPUT_DIR / \"commodity_prices.csv\")\n",
    "prices.head()"
   ]
  },
  {
   "cell_type": "code",
   "execution_count": null,
   "id": "2",
   "metadata": {},
   "outputs": [],
   "source": [
    "from matplotlib import pyplot as plt\n",
    "\n",
    "COMMODITY_ID = \"heat\"\n",
    "\n",
    "# This won't work if there are multiple regions\n",
    "assert prices[\"region_id\"].nunique() == 1\n",
    "\n",
    "_, ax = plt.subplots()\n",
    "\n",
    "prices[prices[\"commodity_id\"] == COMMODITY_ID].pivot(\n",
    "    index=\"milestone_year\", columns=\"time_slice\", values=\"price\"\n",
    ").plot(kind=\"bar\", ax=ax)\n",
    "\n",
    "ax.set_xlabel(\"Milestone year\")\n",
    "ax.set_ylabel(\"Price\")\n",
    "ax.legend(title=\"Time slice\");"
   ]
  }
 ],
 "metadata": {
  "kernelspec": {
   "display_name": "MUSE_2.0",
   "language": "python",
   "name": "python3"
  },
  "language_info": {
   "codemirror_mode": {
    "name": "ipython",
    "version": 3
   },
   "file_extension": ".py",
   "mimetype": "text/x-python",
   "name": "python",
   "nbconvert_exporter": "python",
   "pygments_lexer": "ipython3",
   "version": "3.13.2"
  }
 },
 "nbformat": 4,
 "nbformat_minor": 5
}
