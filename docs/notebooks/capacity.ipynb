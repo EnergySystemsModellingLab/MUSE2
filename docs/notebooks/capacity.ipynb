{
 "cells": [
  {
   "cell_type": "markdown",
   "id": "0",
   "metadata": {},
   "source": [
    "# Calculating agent capacity\n",
    "\n",
    "This notebook contains example data processing using the output of the [`muse1_default`] example\n",
    "model.\n",
    "\n",
    "Output files are mostly in CSV format. The format of output files is documented [here][output-format].\n",
    "\n",
    "We begin by loading the `model.toml` input file to get the list of milestone years.\n",
    "\n",
    "[`muse1_default`]: ../../examples/muse1_default/\n",
    "[output-format]: https://energysystemsmodellinglab.github.io/MUSE2/file_formats/output_files.html"
   ]
  },
  {
   "cell_type": "code",
   "execution_count": null,
   "id": "1",
   "metadata": {},
   "outputs": [],
   "source": [
    "from pathlib import Path\n",
    "import pandas as pd\n",
    "import tomllib\n",
    "\n",
    "ROOT_DIR = Path(\"../..\")\n",
    "INPUT_DIR = ROOT_DIR / \"examples\" / \"muse1_default\"\n",
    "OUTPUT_DIR = ROOT_DIR / \"tests\" / \"data\" / \"muse1_default\"\n",
    "\n",
    "with (INPUT_DIR / \"model.toml\").open(\"rb\") as f:\n",
    "    model = tomllib.load(f)\n",
    "\n",
    "# We need to know the milestone years for processing the assets file\n",
    "years = model[\"milestone_years\"]"
   ]
  },
  {
   "cell_type": "markdown",
   "id": "2",
   "metadata": {},
   "source": [
    "## Load and process output data\n",
    "\n",
    "We next load the output data. In this case, we want to calculate how much capacity was invested in\n",
    "different processes for different agents. This information can be found in the `assets.csv` output\n",
    "file.\n",
    "\n",
    "The `assets.csv` file contains information about different assets, including when they were\n",
    "commissioned and decommissioned as well as their capacity. To calculate the overall capacity for a\n",
    "given agent and process type, we have to process this data. Note that different assets owned by the\n",
    "same agent may have the same process ID if the agent has reinvested in the same process type in a\n",
    "different year."
   ]
  },
  {
   "cell_type": "code",
   "execution_count": null,
   "id": "3",
   "metadata": {},
   "outputs": [],
   "source": [
    "# The assets.csv file contains info about which assets were invested in and when\n",
    "assets = pd.read_csv(OUTPUT_DIR / \"assets.csv\")\n",
    "\n",
    "# Assets with no decommission_year are effectively decommissioned after time horizon\n",
    "assets[\"decommission_year\"] = assets[\"decommission_year\"].fillna(years[-1] + 1)\n",
    "\n",
    "# Calculate capacity for each type of process for each agent\n",
    "capacity = pd.DataFrame()\n",
    "for year in years:\n",
    "    active = assets[(year >= assets[\"commission_year\"]) & (year < assets[\"decommission_year\"])]\n",
    "\n",
    "    # This only works because each agent is responsible for one and only one commodity\n",
    "    cap_sum = active.groupby([\"agent_id\", \"process_id\"])[\"capacity\"].sum().reset_index()\n",
    "\n",
    "    df = pd.DataFrame(cap_sum)\n",
    "    df[\"year\"] = year\n",
    "\n",
    "    capacity = pd.concat([capacity, df])\n",
    "\n",
    "capacity"
   ]
  },
  {
   "cell_type": "markdown",
   "id": "4",
   "metadata": {},
   "source": [
    "## Plot results\n",
    "\n",
    "Finally, we plot the results.\n",
    "\n",
    "Note that each of the agents has invested in only one process type; otherwise there would be\n",
    "multiple bars per plot here."
   ]
  },
  {
   "cell_type": "code",
   "execution_count": null,
   "id": "5",
   "metadata": {},
   "outputs": [],
   "source": [
    "import matplotlib.pyplot as plt\n",
    "\n",
    "agents = capacity[\"agent_id\"].unique()\n",
    "_, axes = plt.subplots(1, len(agents))\n",
    "for ax, agent in zip(axes, agents):\n",
    "    capacity[capacity[\"agent_id\"] == agent].pivot(index=\"year\", columns=\"process_id\", values=\"capacity\").plot(kind=\"bar\", ax=ax)\n",
    "    ax.set_title(agent)\n",
    "    ax.set_xlabel(\"Year\")\n",
    "    ax.set_ylabel(\"Capacity\")\n",
    "    ax.legend(title=\"Process\")"
   ]
  }
 ],
 "metadata": {
  "kernelspec": {
   "display_name": "MUSE2",
   "language": "python",
   "name": "python3"
  },
  "language_info": {
   "codemirror_mode": {
    "name": "ipython",
    "version": 3
   },
   "file_extension": ".py",
   "mimetype": "text/x-python",
   "name": "python",
   "nbconvert_exporter": "python",
   "pygments_lexer": "ipython3",
   "version": "3.13.2"
  }
 },
 "nbformat": 4,
 "nbformat_minor": 5
}
